{
  "cells": [
    {
      "cell_type": "code",
      "execution_count": 1,
      "id": "08abfc47",
      "metadata": {
        "colab": {
          "base_uri": "https://localhost:8080/"
        },
        "id": "08abfc47",
        "outputId": "9db03687-2502-467e-eab1-f28891c1d1ab"
      },
      "outputs": [
        {
          "name": "stdout",
          "output_type": "stream",
          "text": [
            "Word Count: 2523\n"
          ]
        }
      ],
      "source": [
        "import nbformat\n",
        "import re\n",
        "\n",
        "# Load the current notebook\n",
        "with open('reinforcement_kovmir.ipynb', 'r', encoding='utf-8') as f:\n",
        "    nb = nbformat.read(f, as_version=4)\n",
        "\n",
        "# Count words in markdown cells\n",
        "word_count = 0\n",
        "for cell in nb.cells:\n",
        "    if cell.cell_type == \"markdown\":\n",
        "        words = re.findall(r'\\b\\w+\\b', cell.source)\n",
        "        word_count += len(words)\n",
        "\n",
        "print(f\"Word Count: {word_count}\")"
      ]
    },
    {
      "cell_type": "markdown",
      "id": "fc2a8c09",
      "metadata": {
        "id": "fc2a8c09"
      },
      "source": [
        "<span style=\"color:White;font-size:18px\">Semesterabschließende schriftliche Ausarbeitung im Modul Deep Learning (WS2023)</span>\n",
        "\n",
        "<span style=\"color:White;font-size:32px\">Reinforcement Learning am Beispiel eines Endlos-Scrollers mit Pygame</span>\n",
        "\n",
        "<span style=\"color:White;font-size:18px\"> Bearbeitet von Frank Kovmir</span>"
      ]
    },
    {
      "cell_type": "markdown",
      "id": "e9ddc6b4",
      "metadata": {
        "id": "e9ddc6b4"
      },
      "source": [
        "# Inhaltsverzeichnis"
      ]
    },
    {
      "cell_type": "markdown",
      "id": "5a3c0d84",
      "metadata": {
        "id": "5a3c0d84"
      },
      "source": [
        "\n",
        "\n",
        "\n",
        "\n",
        "1. [Einleitung](#1-einleitung)\n",
        "2. [Einfuehrung ins Reinforcement Learning](#2-einfuehrung-ins-reinforcement-learning)\n",
        "3. [Entwicklung des Endlos-Scrollers](#3-entwicklung-des-endlos-scrollers)\n",
        "4. [Integration der KI in das Spiel](#4-integration-der-ki-in-das-spiel)\n",
        "5. [Training des Modells](#5-training-des-modells)\n",
        "6. [Evaluation und Test](#6-evaluation-und-test)\n",
        "7. [Fazit](#7-fazit)\n",
        "8. [Literaturverzeichnis](#8-Literaturverzeichnis)\n",
        "9. [Eigenstaendigkeitserklaerung](#9-eigenstaendigkeitserklaerung)"
      ]
    },
    {
      "cell_type": "markdown",
      "id": "838a3b8a",
      "metadata": {
        "id": "838a3b8a"
      },
      "source": [
        "<a name=\"einleitung\"></a>\n",
        "## 1. Einleitung"
      ]
    },
    {
      "cell_type": "markdown",
      "id": "b26d90f8",
      "metadata": {
        "id": "b26d90f8"
      },
      "source": [
        "In einer Ära, in der künstliche Intelligenz (KI) und maschinelles Lernen (ML) rapide Fortschritte machen, gewinnt die Anwendung dieser Technologien in interaktiven und dynamischen Umgebungen, wie in Videospielen, zunehmend an Bedeutung. Diese Hausarbeit beschäftigt sich mit der praktischen Anwendung von Deep Learning (DL) Techniken, speziell im Kontext von Reinforcement Learning (RL), um einen intelligenten Agenten zu trainieren, der in einem selbstentwickelten Endlos-Scroller-Spiel agiert.\n",
        "\n",
        "Der Endlos-Scroller, entwickelt mit der Pygame-Bibliothek, bietet eine faszinierende Plattform für die Erprobung und Demonstration von KI-Fähigkeiten. Das Spiel erfordert von dem Spieler oder Agenten, kontinuierlich zu laufen, während er aufkommenden Hindernissen durch Springen oder Ducken ausweicht. Diese scheinbar einfache Aufgabe birgt jedoch komplexe Herausforderungen, die ein ideales Testfeld für KI-Algorithmen darstellen.\n",
        "\n",
        "Das Ziel dieser Arbeit ist es, die Brücke zwischen theoretischem Wissen und praktischer Anwendung zu schlagen. Es wird untersucht, wie ein Deep Learning-Modell konzipiert, trainiert und integriert werden kann, um in diesem Spiel autonom zu agieren. Diese Untersuchung umfasst die technischen Grundlagen, die Entwicklung des Spiels, die Integration der KI, das Training des Modells und schließlich dessen Bewertung.\n",
        "\n",
        "Die Relevanz dieser Arbeit ergibt sich aus dem zunehmenden Interesse an der Anwendung von KI in Spielen, sowohl in der akademischen Forschung als auch in der Spieleindustrie. Spiele bieten eine kontrollierte, aber herausfordernde Umgebung, in der KI-Modelle auf innovative Weise getestet und verbessert werden können. Diese Erkenntnisse tragen nicht nur zur Entwicklung von Unterhaltungssoftware bei, sondern auch zur Weiterentwicklung von KI-Technologien in breiteren Anwendungsbereichen.\n",
        "\n",
        "Im Verlauf dieser Arbeit wird ein umfassender Einblick in die technischen und theoretischen Aspekte von Reinforcement Learning gegeben und es wird detailliert aufgezeigt, wie diese Prinzipien zur Entwicklung eines autonomen Agenten angewendet werden, der in der Lage ist, komplexe Entscheidungen in Echtzeit zu treffen."
      ]
    },
    {
      "cell_type": "markdown",
      "id": "4YAzvf1095QD",
      "metadata": {
        "id": "4YAzvf1095QD"
      },
      "source": [
        "xdxx\n"
      ]
    },
    {
      "cell_type": "markdown",
      "id": "71d7b348",
      "metadata": {
        "id": "71d7b348"
      },
      "source": [
        "\n",
        "\n",
        "\n",
        "<a name=\"einfuehrung\"></a>\n",
        "## 2. Einfuehrung ins Reinforcement Learning"
      ]
    },
    {
      "cell_type": "markdown",
      "id": "e48b8b76",
      "metadata": {
        "id": "e48b8b76"
      },
      "source": [
        "xxd"
      ]
    },
    {
      "cell_type": "markdown",
      "id": "e6194b7d",
      "metadata": {
        "id": "e6194b7d"
      },
      "source": [
        "<a name=\"entwicklung\"></a>\n",
        "## 3. Entwicklung des Endlos-Scrollers"
      ]
    },
    {
      "cell_type": "markdown",
      "id": "6b086139",
      "metadata": {
        "id": "6b086139"
      },
      "source": [
        "xxd"
      ]
    },
    {
      "cell_type": "markdown",
      "id": "SpTkmxAYjEEM",
      "metadata": {
        "id": "SpTkmxAYjEEM"
      },
      "source": [
        "<a name=\"integration\"></a>\n",
        "## 4. Integration der KI in das Spiel"
      ]
    },
    {
      "cell_type": "markdown",
      "id": "xH_AAEuVjRH7",
      "metadata": {
        "id": "xH_AAEuVjRH7"
      },
      "source": [
        "xxxd"
      ]
    },
    {
      "cell_type": "markdown",
      "id": "kxjJVROhbjTS",
      "metadata": {
        "id": "kxjJVROhbjTS"
      },
      "source": [
        "<a name=\"training\"></a>\n",
        "## 5. Training des Modells"
      ]
    },
    {
      "cell_type": "markdown",
      "id": "xC9KufTAHb9b",
      "metadata": {
        "id": "xC9KufTAHb9b"
      },
      "source": [
        "xxx"
      ]
    },
    {
      "cell_type": "markdown",
      "id": "y296SCknL1Dj",
      "metadata": {
        "id": "y296SCknL1Dj"
      },
      "source": [
        "<a name=\"test\"></a>\n",
        "## 6. Evaluation und Test"
      ]
    },
    {
      "cell_type": "markdown",
      "id": "hTSFClKdUzND",
      "metadata": {
        "id": "hTSFClKdUzND"
      },
      "source": [
        "xxx"
      ]
    },
    {
      "cell_type": "markdown",
      "id": "q1Fkrw0urzGE",
      "metadata": {
        "id": "q1Fkrw0urzGE"
      },
      "source": [
        "<a name=\"fazit\"></a>\n",
        "## 7. Fazit\n",
        "\n",
        "Die vorliegende Untersuchung hat sich mit der Vorhersage von Gebrauchtwagenpreisen beschäftigt und dabei zwei verschiedene Methoden angewendet: die multiple lineare Regression und ein neuronales Netzwerk mit Keras. Nach einer gründlichen Analyse und Bereinigung der Daten wurden beide Modelle trainiert und getestet.\n",
        "\n",
        "Die Ergebnisse zeigten, dass das neuronale Netzwerk eine höhere Vorhersagegenauigkeit aufwies als die multiple lineare Regression. Dies könnte mehrere Gründe haben. So sind  neuronale Netzwerke zum einen in der Lage, komplexe nichtlineare Beziehungen zwischen den Eingabevariablen zu modellieren, die von linearen Modellen möglicherweise nicht vollständig bzw. korrekt erfasst werden [13]. Daneben können neuronale Netzwerke durch die Nutzung verschiederner Layer Muster innerhalb der Trainingsdaten erkennen, die für lineare Modelle nicht offensichtlich zugänglich sind [14].\n",
        "\n",
        "Es ist jedoch wichtig zu beachten, dass die höhere Leistung des neuronalen Netzwerks nicht bedeutet, dass die multiple lineare Regression für diese Art von Aufgabe ungeeignet ist. Vielmehr zeigt es, dass verschiedene Modelle in unterschiedlichen Kontexten und mit unterschiedlichen Datensätzen unterschiedlich gut abschneiden können [15].\n",
        "\n",
        "Mit Blick auf die weitere Forschung sollte geprüft werden, ob die Leistung des neuronalen Netzwerks möglicherweise durch die Verwendung fortgeschrittenerer Techniken, wie z.B. Deep Learning oder die Anwendung von Convolutional Neural Networks (CNNs), weiter verbessert werden kann [13]. Daneben könnte auch die multiple lineare Regression ggf. durch die Einbeziehung von Interaktionseffekten oder die Anwendung von Regularisierungstechniken verbessert werden.\n",
        "\n",
        "Um stichhaltigere und generalisierbare Ergebnisse zu haben sollte die Untersuchung weiterhin ausgeweitet werden, um andere Märkte und ggf. andere Arten von Fahrzeugen (Oldtimer, Lieberhaberautos..) einzubeziehen.\n",
        "\n",
        "Insgesamt hat die vorliegende Untersuchung einen grundlegenden Einblick in die Vorhersage von Gebrauchtwagenpreisen geliefert und gezeigt, dass sowohl traditionelle statistische Modelle als auch moderne maschinelle Lernmethoden wertvolle Werkzeuge für diese Art von Aufgabe sein können, obgleich die Ergebnisgüte linearer Modelle zweifelhaft ist. Es sollte geprüft werden, ob eine nicht-lineare Regressionsmethode ggf. besser geeignet ist."
      ]
    },
    {
      "cell_type": "markdown",
      "id": "32afaba8",
      "metadata": {
        "id": "32afaba8"
      },
      "source": [
        "<a name=\"literatur\"></a>\n",
        "## 8. Literaturverzeichnis"
      ]
    },
    {
      "cell_type": "markdown",
      "id": "ab5ec990",
      "metadata": {
        "id": "ab5ec990"
      },
      "source": [
        "[1] Sharifi, E., Saghafian, B., & Steinacker, _Downscaling Satellite Precipitation Estimates With Multiple Linear Regression, Artificial Neural Networks, and Spline Interpolation Techniques_, Link: https://dx.doi.org/10.1029/2018JD028795, 2020<br><br>\n",
        "[2] Li, M., & Wang, J, _An Empirical Comparison of Multiple Linear Regression and Artificial Neural Network for Concrete Dam Deformation Modelling_, Link: https://dx.doi.org/10.1155/2019/7620948, 2019<br><br>\n",
        "[3] Chen, D., Hu, F., Nian, G., & Yang, T., _Deep Residual Learning for Nonlinear Regression_, Link: https://dx.doi.org/10.3390/e22020193, 2020<br><br>\n",
        "[4] James, G., Witten, D., Hastie, T., & Tibshirani, R., _An Introduction to Statistical Learning_, Link: https://link.springer.com/book/10.1007/978-1-4614-7138-7, 2013<br><br>\n",
        "[5]  Kutner, M. H., Nachtsheim, C. J., Neter, J., & Li, W., _Applied Linear Statistical Models_, ISBN: 978-0071122214, 2004<br><br>\n",
        "[6] Aditya, _100,000 UK Used Car Data set_, Link: https://www.kaggle.com/datasets/adityadesai13/used-car-dataset-ford-and-mercedes, 2020<br><br>\n",
        "[7] Smith, M. D., Oglend, A., Kirkpatrick, A. J., Asche, F., Bennear, L. S., Craig, J. K., & Nance, J. M., _Seafood prices reveal impacts of a major ecological disturbance_, Link: https://dx.doi.org/10.1073/pnas.1617948114, 2017<br><br>\n",
        "[8] Ives, A., _For testing the significance of regression coefficients, go ahead and log-transform count data_, Link: https://dx.doi.org/10.2478/v10117-011-0021-1, 2011<br><br>\n",
        "[9] Hauke, J., & Kossowski, T., _Comparison of Values of Pearson's and Spearman's Correlation Coefficients on the Same Sets of Data_, Link: https://dx.doi.org/10.1073/pnas.1617948114, 2017<br><br>\n",
        "[10] Spiegelman, D., _Commentary: some remarks on the seminal 1904 paper of Charles Spearman 'The proof and measurement of association between two things'. _, Link: https://dx.doi.org/10.1093/ije/dyq201, 2010<br><br>\n",
        "[11] Gasparrini, A., Armstrong, B., & Kenward, M., _Multivariate meta-analysis for non-linear and other multi-parameter associations_, Link: https://dx.doi.org/10.1002/sim.5471, 2012<br><br>\n",
        "[12] Montgomery, D. C., Peck, E. A., & Vining, G. G., _Introduction to Linear Regression Analysis_, 2012<br><br>\n",
        "[13] Hong, J., Wang, Z., Chen, W., Wang, L., & Qu, C., _Online joint-prediction of multi-forward-step battery SOC using LSTM neural networks and multiple linear regression for real-world electric vehicles_, Link: https://dx.doi.org/10.1016/j.est.2020.101459, 2020<br><br>\n",
        "[14] Tsakiri, K., Marsellos, A., & Kapetanakis, S., _Artificial Neural Network and Multiple Linear Regression for Flood Prediction in Mohawk River_, Link: https://dx.doi.org/10.3390/W10091158, 2018<br><br>\n",
        "[15] Piekutowska, M., Niedbała, G., Piskier, T., Lenartowicz, T., Pilarski, K., Wojciechowski, T., Pilarska, A., & Czechowska-Kosacka., _The Application of Multiple Linear Regression and Artificial Neural Network Models for Yield Prediction of Very Early Potato Cultivars before Harvest_, Link: https://www.mdpi.com/2073-4395/11/5/885, 2021<br><br>\n"
      ]
    },
    {
      "cell_type": "markdown",
      "id": "263ca7f3",
      "metadata": {
        "id": "263ca7f3"
      },
      "source": [
        "## <a name=\"eigenständigkeitserklärung\"></a>\n",
        "## 9. Eigenstaendigkeitserklaerung"
      ]
    },
    {
      "cell_type": "markdown",
      "id": "CLKWebnUm1PP",
      "metadata": {
        "id": "CLKWebnUm1PP"
      },
      "source": [
        "![Unterschrift2.png](data:image/png;base64,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)\n",
        "\n"
      ]
    }
  ],
  "metadata": {
    "colab": {
      "provenance": []
    },
    "kernelspec": {
      "display_name": "Python 3 (ipykernel)",
      "language": "python",
      "name": "python3"
    },
    "language_info": {
      "codemirror_mode": {
        "name": "ipython",
        "version": 3
      },
      "file_extension": ".py",
      "mimetype": "text/x-python",
      "name": "python",
      "nbconvert_exporter": "python",
      "pygments_lexer": "ipython3",
      "version": "3.10.0"
    },
    "varInspector": {
      "cols": {
        "lenName": 16,
        "lenType": 16,
        "lenVar": 40
      },
      "kernels_config": {
        "python": {
          "delete_cmd_postfix": "",
          "delete_cmd_prefix": "del ",
          "library": "var_list.py",
          "varRefreshCmd": "print(var_dic_list())"
        },
        "r": {
          "delete_cmd_postfix": ") ",
          "delete_cmd_prefix": "rm(",
          "library": "var_list.r",
          "varRefreshCmd": "cat(var_dic_list()) "
        }
      },
      "types_to_exclude": [
        "module",
        "function",
        "builtin_function_or_method",
        "instance",
        "_Feature"
      ],
      "window_display": false
    }
  },
  "nbformat": 4,
  "nbformat_minor": 5
}
